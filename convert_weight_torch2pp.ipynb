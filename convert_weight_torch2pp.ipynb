{
  "nbformat": 4,
  "nbformat_minor": 0,
  "metadata": {
    "colab": {
      "name": "TADNE-pytorch2paddle.ipynb",
      "private_outputs": true,
      "provenance": [],
      "collapsed_sections": [],
      "authorship_tag": "ABX9TyOClAvB5EDaDzl81HDnYHc4",
      "include_colab_link": true
    },
    "kernelspec": {
      "name": "python3",
      "display_name": "Python 3"
    },
    "accelerator": "GPU"
  },
  "cells": [
    {
      "cell_type": "markdown",
      "metadata": {
        "id": "view-in-github",
        "colab_type": "text"
      },
      "source": [
        "<a href=\"https://colab.research.google.com/github/HighCWu/stylegan2-pytorch2paddle/blob/tadne/convert_weight_torch2pp.ipynb\" target=\"_parent\"><img src=\"https://colab.research.google.com/assets/colab-badge.svg\" alt=\"Open In Colab\"/></a>"
      ]
    },
    {
      "cell_type": "code",
      "metadata": {
        "id": "1Ttw7cN-wPBg"
      },
      "source": [
        "!wget https://github.com/ninja-build/ninja/releases/download/v1.8.2/ninja-linux.zip\n",
        "!unzip ninja-linux.zip -d /usr/local/bin/\n",
        "!update-alternatives --install /usr/bin/ninja ninja /usr/local/bin/ninja 1 --force\n",
        "\n",
        "!git clone https://github.com/HighCWu/stylegan2-pytorch2paddle -b tadne\n",
        "\n",
        "!wget https://paddle-wheel.bj.bcebos.com/2.0.0-rc0-gpu-cuda10.1-cudnn7-mkl_gcc8.2%2Fpaddlepaddle_gpu-2.0.0rc0.post101-cp36-cp36m-linux_x86_64.whl -O paddlepaddle_gpu-2.0.0rc0.post101-cp36-cp36m-linux_x86_64.whl\n",
        "!pip install paddlepaddle_gpu-2.0.0rc0.post101-cp36-cp36m-linux_x86_64.whl"
      ],
      "execution_count": null,
      "outputs": []
    },
    {
      "cell_type": "code",
      "metadata": {
        "id": "8JiAPhILVNg7"
      },
      "source": [
        "from google.colab import drive\n",
        "drive.mount('/gdrive')\n",
        "!cp /gdrive/My\\ Drive/network-tadne.pt ./"
      ],
      "execution_count": null,
      "outputs": []
    },
    {
      "cell_type": "code",
      "metadata": {
        "id": "aBKocYFTydB3"
      },
      "source": [
        "!cd stylegan2-pytorch2paddle && python convert_weight_torch2pp.py ../network-tadne.pt"
      ],
      "execution_count": null,
      "outputs": []
    },
    {
      "cell_type": "code",
      "metadata": {
        "id": "FyI0o8PAZxUk"
      },
      "source": [
        "from PIL import Image\n",
        "from IPython.display import display\n",
        "img = Image.open('stylegan2-pytorch2paddle/network-tadne.png')\n",
        "w, h = img.size\n",
        "w, h = int(w / 4), int(h / 4)\n",
        "img = img.resize((w, h), Image.BILINEAR)\n",
        "display(img)"
      ],
      "execution_count": null,
      "outputs": []
    },
    {
      "cell_type": "code",
      "metadata": {
        "id": "wCTgxtLPbPib"
      },
      "source": [
        "!cd stylegan2-pytorch2paddle && python generate_pp.py --size 512"
      ],
      "execution_count": null,
      "outputs": []
    },
    {
      "cell_type": "code",
      "metadata": {
        "id": "NiIRSR20cC5F"
      },
      "source": [
        "import glob\n",
        "from PIL import Image\n",
        "from IPython.display import display\n",
        "imgs = glob.glob('stylegan2-pytorch2paddle/sample/*.png')\n",
        "for path in sorted(imgs):\n",
        "    img = Image.open(path)\n",
        "    w, h = img.size\n",
        "    w, h = int(w / 8), int(h / 8)\n",
        "    img = img.resize((w, h), Image.BILINEAR)\n",
        "    display(img)"
      ],
      "execution_count": null,
      "outputs": []
    },
    {
      "cell_type": "code",
      "metadata": {
        "id": "j5haJBeDc5tm"
      },
      "source": [
        "!cp stylegan2-pytorch2paddle/network-tadne.g_ema /gdrive/My\\ Drive/"
      ],
      "execution_count": null,
      "outputs": []
    }
  ]
}