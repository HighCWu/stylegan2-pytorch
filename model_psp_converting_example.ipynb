{
  "nbformat": 4,
  "nbformat_minor": 0,
  "metadata": {
    "colab": {
      "name": "model_psp_converting_example.ipynb",
      "private_outputs": true,
      "provenance": [],
      "collapsed_sections": [],
      "toc_visible": true,
      "authorship_tag": "ABX9TyNYh9ViBtoss9eHBnSth7bY",
      "include_colab_link": true
    },
    "kernelspec": {
      "name": "python3",
      "display_name": "Python 3"
    },
    "accelerator": "GPU"
  },
  "cells": [
    {
      "cell_type": "markdown",
      "metadata": {
        "id": "view-in-github",
        "colab_type": "text"
      },
      "source": [
        "<a href=\"https://colab.research.google.com/github/HighCWu/stylegan2-pytorch2paddle/blob/master/model_psp_converting_example.ipynb\" target=\"_parent\"><img src=\"https://colab.research.google.com/assets/colab-badge.svg\" alt=\"Open In Colab\"/></a>"
      ]
    },
    {
      "cell_type": "code",
      "metadata": {
        "id": "1Ttw7cN-wPBg"
      },
      "source": [
        "!git clone https://github.com/HighCWu/stylegan2-pytorch2paddle\n",
        "\n",
        "!wget https://paddle-wheel.bj.bcebos.com/2.0.0-rc0-gpu-cuda10.1-cudnn7-mkl_gcc8.2%2Fpaddlepaddle_gpu-2.0.0rc0.post101-cp36-cp36m-linux_x86_64.whl -O paddlepaddle_gpu-2.0.0rc0.post101-cp36-cp36m-linux_x86_64.whl\n",
        "!pip install paddlepaddle_gpu-2.0.0rc0.post101-cp36-cp36m-linux_x86_64.whl"
      ],
      "execution_count": null,
      "outputs": []
    },
    {
      "cell_type": "code",
      "metadata": {
        "id": "8JiAPhILVNg7"
      },
      "source": [
        "import os \n",
        " \n",
        "def get_model_checkpoint(output_dir, model_ID, model_choice, overwrite=False):\n",
        "    output_path = os.path.join(output_dir, model_choice)\n",
        "    if overwrite is True:\n",
        "        print('Overwriting file, if it exists.')\n",
        "        !rm -v $output_path\n",
        "    else:\n",
        "        if os.path.exists(output_path):\n",
        "            print('File already exists at', '\\n->', output_path)\n",
        "            return output_path\n",
        "    print('Downloading model to', '\\n->', output_path)\n",
        "    !wget -q --show-progress --load-cookies /tmp/cookies.txt \"https://docs.google.com/uc?export=download&confirm=$(wget --quiet --save-cookies /tmp/cookies.txt --keep-session-cookies --no-check-certificate 'https://docs.google.com/uc?export=download&id=$model_ID' -O- | sed -rn 's/.*confirm=([0-9A-Za-z_]+).*/\\1\\n/p')&id=$model_ID\" -O $output_path && rm -rf /tmp/cookies.txt\n",
        " \n",
        "    return output_path\n",
        "\n",
        "get_model_checkpoint('stylegan2-pytorch2paddle', '1YKoiVuFaqdvzDP5CZaqa3k5phL-VDmyz', 'psp_ffhq_toonify.pt')"
      ],
      "execution_count": null,
      "outputs": []
    },
    {
      "cell_type": "code",
      "metadata": {
        "id": "aBKocYFTydB3"
      },
      "source": [
        "!cd stylegan2-pytorch2paddle && python convert_psp_weight_torch2pp.py psp_ffhq_toonify.pt"
      ],
      "execution_count": null,
      "outputs": []
    },
    {
      "cell_type": "code",
      "metadata": {
        "id": "d3twiqX_xNMg"
      },
      "source": [
        "!cd stylegan2-pytorch2paddle && python generate_psp_pp.py psp_ffhq_toonify.pdparams"
      ],
      "execution_count": null,
      "outputs": []
    },
    {
      "cell_type": "code",
      "metadata": {
        "id": "FyI0o8PAZxUk"
      },
      "source": [
        "from PIL import Image\n",
        "from IPython.display import display\n",
        "img = Image.open('stylegan2-pytorch2paddle/doc/pSp_input_img.rev.jpg')\n",
        "w, h = img.size\n",
        "w, h = int(w / 2), int(h / 2)\n",
        "img = img.resize((w, h), Image.BILINEAR)\n",
        "display(img)"
      ],
      "execution_count": null,
      "outputs": []
    },
    {
      "cell_type": "code",
      "metadata": {
        "id": "j5haJBeDc5tm"
      },
      "source": [
        "from google.colab import drive\n",
        "drive.mount('/gdrive')\n",
        "!cp stylegan2-pytorch2paddle/psp_ffhq_toonify.pdparams /gdrive/My\\ Drive/Backup"
      ],
      "execution_count": null,
      "outputs": []
    }
  ]
}