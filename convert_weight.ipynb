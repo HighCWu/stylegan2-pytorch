{
  "nbformat": 4,
  "nbformat_minor": 0,
  "metadata": {
    "colab": {
      "name": "TADNE_tf2pytorch.ipynb",
      "private_outputs": true,
      "provenance": [],
      "toc_visible": true,
      "authorship_tag": "ABX9TyPij1lmW5cn04/vdXQzTqbi",
      "include_colab_link": true
    },
    "kernelspec": {
      "name": "python3",
      "display_name": "Python 3"
    },
    "accelerator": "GPU"
  },
  "cells": [
    {
      "cell_type": "markdown",
      "metadata": {
        "id": "view-in-github",
        "colab_type": "text"
      },
      "source": [
        "<a href=\"https://colab.research.google.com/github/HighCWu/stylegan2-pytorch2paddle/blob/tadne/convert_weight.ipynb\" target=\"_parent\"><img src=\"https://colab.research.google.com/assets/colab-badge.svg\" alt=\"Open In Colab\"/></a>"
      ]
    },
    {
      "cell_type": "markdown",
      "metadata": {
        "id": "2s00cSg7_eYr"
      },
      "source": [
        "## Download Model"
      ]
    },
    {
      "cell_type": "code",
      "metadata": {
        "id": "ADcAIqEO_jeu"
      },
      "source": [
        "import gdown\r\n",
        "gdown.download('https://drive.google.com/uc?id=1qNhyusI0hwBLI-HOavkNP5I0J0-kcN4C', 'network-tadne.pkl', quiet=False)"
      ],
      "execution_count": null,
      "outputs": []
    },
    {
      "cell_type": "markdown",
      "metadata": {
        "id": "K36DtDef_0BL"
      },
      "source": [
        "## Convert Model to PyTorch"
      ]
    },
    {
      "cell_type": "code",
      "metadata": {
        "id": "pndnh1NCN6sy"
      },
      "source": [
        "%tensorflow_version 1.x"
      ],
      "execution_count": null,
      "outputs": []
    },
    {
      "cell_type": "code",
      "metadata": {
        "id": "Bgj324kvN64O"
      },
      "source": [
        "!wget https://github.com/ninja-build/ninja/releases/download/v1.8.2/ninja-linux.zip\r\n",
        "!unzip ninja-linux.zip -d /usr/local/bin/\r\n",
        "!update-alternatives --install /usr/bin/ninja ninja /usr/local/bin/ninja 1 --force\r\n",
        "\r\n",
        "!git clone https://github.com/HighCWu/stylegan2-pytorch2paddle -b tadne --recursive"
      ],
      "execution_count": null,
      "outputs": []
    },
    {
      "cell_type": "code",
      "metadata": {
        "id": "ras0v8ruN7Bc"
      },
      "source": [
        "!cd stylegan2-pytorch2paddle && python convert_weight.py ../network-tadne.pkl"
      ],
      "execution_count": null,
      "outputs": []
    },
    {
      "cell_type": "code",
      "metadata": {
        "id": "wyRoynspOKAJ"
      },
      "source": [
        "!cd stylegan2-pytorch2paddle && python generate.py --ckpt network-tadne.pt"
      ],
      "execution_count": null,
      "outputs": []
    },
    {
      "cell_type": "code",
      "metadata": {
        "id": "_YPIP20IOKJF"
      },
      "source": [
        "import glob\r\n",
        "from PIL import Image\r\n",
        "from IPython.display import display\r\n",
        "imgs = glob.glob('stylegan2-pytorch2paddle/sample/*.png')\r\n",
        "for path in sorted(imgs):\r\n",
        "    img = Image.open(path)\r\n",
        "    w, h = img.size\r\n",
        "    w, h = int(w / 8), int(h / 8)\r\n",
        "    img = img.resize((w, h), Image.BILINEAR)\r\n",
        "    display(img)"
      ],
      "execution_count": null,
      "outputs": []
    },
    {
      "cell_type": "code",
      "metadata": {
        "id": "UkseHyuFT9bM"
      },
      "source": [
        "from google.colab import drive\r\n",
        "drive.mount('/gdrive')\r\n",
        "!cp stylegan2-pytorch2paddle/network-tadne.pt /gdrive/My\\ Drive/"
      ],
      "execution_count": null,
      "outputs": []
    }
  ]
}