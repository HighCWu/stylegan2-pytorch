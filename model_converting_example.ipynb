{
  "nbformat": 4,
  "nbformat_minor": 0,
  "metadata": {
    "colab": {
      "name": "stylegan2-pytorch2paddle.ipynb",
      "private_outputs": true,
      "provenance": [],
      "collapsed_sections": [],
      "authorship_tag": "ABX9TyNnfRit507Ch9D35wvWPApM",
      "include_colab_link": true
    },
    "kernelspec": {
      "name": "python3",
      "display_name": "Python 3"
    },
    "accelerator": "GPU"
  },
  "cells": [
    {
      "cell_type": "markdown",
      "metadata": {
        "id": "view-in-github",
        "colab_type": "text"
      },
      "source": [
        "<a href=\"https://colab.research.google.com/github/HighCWu/stylegan2-pytorch2paddle/blob/master/model_converting_example.ipynb\" target=\"_parent\"><img src=\"https://colab.research.google.com/assets/colab-badge.svg\" alt=\"Open In Colab\"/></a>"
      ]
    },
    {
      "cell_type": "code",
      "metadata": {
        "id": "1Ttw7cN-wPBg"
      },
      "source": [
        "!wget https://github.com/ninja-build/ninja/releases/download/v1.8.2/ninja-linux.zip\n",
        "!unzip ninja-linux.zip -d /usr/local/bin/\n",
        "!update-alternatives --install /usr/bin/ninja ninja /usr/local/bin/ninja 1 --force\n",
        "\n",
        "!git clone https://github.com/HighCWu/stylegan2-pytorch2paddle\n",
        "\n",
        "!wget https://paddle-wheel.bj.bcebos.com/2.0.0-rc0-gpu-cuda10.1-cudnn7-mkl_gcc8.2%2Fpaddlepaddle_gpu-2.0.0rc0.post101-cp36-cp36m-linux_x86_64.whl -O paddlepaddle_gpu-2.0.0rc0.post101-cp36-cp36m-linux_x86_64.whl\n",
        "!pip install paddlepaddle_gpu-2.0.0rc0.post101-cp36-cp36m-linux_x86_64.whl"
      ],
      "execution_count": null,
      "outputs": []
    },
    {
      "cell_type": "code",
      "metadata": {
        "id": "8JiAPhILVNg7"
      },
      "source": [
        "import os \n",
        " \n",
        "def get_model_checkpoint(output_dir, model_ID, model_choice, overwrite=False):\n",
        "    output_path = os.path.join(output_dir, model_choice)\n",
        "    if overwrite is True:\n",
        "        print('Overwriting file, if it exists.')\n",
        "        !rm -v $output_path\n",
        "    else:\n",
        "        if os.path.exists(output_path):\n",
        "            print('File already exists at', '\\n->', output_path)\n",
        "            return output_path\n",
        "    print('Downloading model to', '\\n->', output_path)\n",
        "    !wget -q --show-progress --load-cookies /tmp/cookies.txt \"https://docs.google.com/uc?export=download&confirm=$(wget --quiet --save-cookies /tmp/cookies.txt --keep-session-cookies --no-check-certificate 'https://docs.google.com/uc?export=download&id=$model_ID' -O- | sed -rn 's/.*confirm=([0-9A-Za-z_]+).*/\\1\\n/p')&id=$model_ID\" -O $output_path && rm -rf /tmp/cookies.txt\n",
        " \n",
        "    return output_path\n",
        " \n",
        "get_model_checkpoint('stylegan2-pytorch2paddle', '1EM87UquaoQmk17Q8d5kYIAHqu0dkYqdT', 'stylegan2-ffhq-config-f.pt')"
      ],
      "execution_count": null,
      "outputs": []
    },
    {
      "cell_type": "code",
      "metadata": {
        "id": "aBKocYFTydB3"
      },
      "source": [
        "!cd stylegan2-pytorch2paddle && python convert_weight_torch2pp.py stylegan2-ffhq-config-f.pt"
      ],
      "execution_count": null,
      "outputs": []
    },
    {
      "cell_type": "code",
      "metadata": {
        "id": "FyI0o8PAZxUk"
      },
      "source": [
        "from PIL import Image\n",
        "from IPython.display import display\n",
        "img = Image.open('stylegan2-pytorch2paddle/stylegan2-ffhq-config-f.png')\n",
        "w, h = img.size\n",
        "w, h = int(w / 8), int(h / 8)\n",
        "img = img.resize((w, h), Image.BILINEAR)\n",
        "display(img)"
      ],
      "execution_count": null,
      "outputs": []
    },
    {
      "cell_type": "code",
      "metadata": {
        "id": "wCTgxtLPbPib"
      },
      "source": [
        "!cd stylegan2-pytorch2paddle && python generate_pp.py --size 1024"
      ],
      "execution_count": null,
      "outputs": []
    },
    {
      "cell_type": "code",
      "metadata": {
        "id": "NiIRSR20cC5F"
      },
      "source": [
        "import glob\n",
        "from PIL import Image\n",
        "from IPython.display import display\n",
        "imgs = glob.glob('stylegan2-pytorch2paddle/sample/*.png')\n",
        "for path in sorted(imgs):\n",
        "    img = Image.open(path)\n",
        "    w, h = img.size\n",
        "    w, h = int(w / 16), int(h / 16)\n",
        "    img = img.resize((w, h), Image.BILINEAR)\n",
        "    display(img)"
      ],
      "execution_count": null,
      "outputs": []
    },
    {
      "cell_type": "code",
      "metadata": {
        "id": "j5haJBeDc5tm"
      },
      "source": [
        "from google.colab import drive\n",
        "drive.mount('/gdrive')\n",
        "!cp stylegan2-pytorch2paddle/stylegan2-ffhq-config-f.g_ema /gdrive/My\\ Drive/Backup"
      ],
      "execution_count": null,
      "outputs": []
    }
  ]
}